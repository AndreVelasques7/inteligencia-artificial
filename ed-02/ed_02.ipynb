{
  "nbformat": 4,
  "nbformat_minor": 0,
  "metadata": {
    "colab": {
      "provenance": [],
      "collapsed_sections": [],
      "authorship_tag": "ABX9TyNC8G478Mkp0AIWgCWlVYLh",
      "include_colab_link": true
    },
    "kernelspec": {
      "name": "python3",
      "display_name": "Python 3"
    },
    "language_info": {
      "name": "python"
    }
  },
  "cells": [
    {
      "cell_type": "markdown",
      "metadata": {
        "id": "view-in-github",
        "colab_type": "text"
      },
      "source": [
        "<a href=\"https://colab.research.google.com/github/AndreVelasques7/inteligencia-artificial/blob/main/ed_02.ipynb\" target=\"_parent\"><img src=\"https://colab.research.google.com/assets/colab-badge.svg\" alt=\"Open In Colab\"/></a>"
      ]
    },
    {
      "cell_type": "code",
      "execution_count": 3,
      "metadata": {
        "id": "uKAx-h6YUZ52",
        "colab": {
          "base_uri": "https://localhost:8080/"
        },
        "outputId": "295546c0-a640-4675-b5f5-0812d6bcc6ad"
      },
      "outputs": [
        {
          "output_type": "stream",
          "name": "stdout",
          "text": [
            "O valor de 1! e = [1]\n",
            "O valor de 2! e = [1, 2]\n",
            "O valor de 3! e = [1, 2, 6]\n",
            "O valor de 4! e = [1, 2, 6, 24]\n",
            "O valor de 5! e = [1, 2, 6, 24, 120]\n",
            "O valor de 6! e = [1, 2, 6, 24, 120, 720]\n",
            "O valor de 7! e = [1, 2, 6, 24, 120, 720, 5040]\n",
            "O valor de 8! e = [1, 2, 6, 24, 120, 720, 5040, 40320]\n",
            "O valor de 9! e = [1, 2, 6, 24, 120, 720, 5040, 40320, 362880]\n",
            "O valor de 10! e = [1, 2, 6, 24, 120, 720, 5040, 40320, 362880, 3628800]\n",
            "Lista Fatorial decrescente:[3628800, 362880, 40320, 5040, 720, 120, 24, 6, 2, 1]\n"
          ]
        }
      ],
      "source": [
        "fatorial_list = []\n",
        "def fatorial(x):\n",
        "    fat = 1\n",
        "    i = 1\n",
        "    while i <= x:\n",
        "        fat = fat*i\n",
        "        fatorial_list.append(fat)\n",
        "        print(f\"O valor de {i}! e = {fatorial_list}\") \n",
        "        i = i + 1\n",
        "        \n",
        "#-----\n",
        "fatorial(10)\n",
        "fatorial_list.sort(reverse=True)\n",
        "print(f'Lista Fatorial decrescente:{fatorial_list}')"
      ]
    },
    {
      "cell_type": "code",
      "source": [
        "troco, valor_50,valor_20,valor_10,valor_5,valor_2,valor_1 = 0,0,0,0,0,0,0\n",
        "\n",
        "troco = float(input(\"Entre com um valor para Saque: \"))\n",
        "while troco > 1:\n",
        "    if(troco >= 50):\n",
        "      valor_50 = valor_50 + 1\n",
        "      troco = troco - 50\n",
        "    elif(troco >= 20 and troco <= 50):\n",
        "      valor_20 = valor_20 + 1\n",
        "      troco = troco - 20\n",
        "    elif(troco >= 10 and troco <= 20):\n",
        "      valor_10 = valor_10 + 1\n",
        "      troco = troco - 10\n",
        "    elif(troco >= 5 and troco <= 10):\n",
        "      valor_5 = valor_5 + 1\n",
        "      troco = troco - 5\n",
        "    elif(troco >= 2 and troco <= 5):\n",
        "      valor_2 = valor_2 + 1\n",
        "      troco = troco - 2\n",
        "    elif(troco == 1):\n",
        "      valor_1 = 1;\n",
        "      troco = troco - 1  \n",
        "\n",
        "\n",
        "print(f\"{valor_50} Nota de 50\\n{valor_20} Nota(s) de 20\\n{valor_10} Nota(s) de 10\\n{valor_5} Nota(s) de 5\\n{valor_2} Moeda(s) de 2\\n{valor_1} Moeda de 1\");"
      ],
      "metadata": {
        "colab": {
          "base_uri": "https://localhost:8080/"
        },
        "id": "gtPk3wMkUsUe",
        "outputId": "f1cdfdf7-5b82-409b-b7dc-5a16c228df54"
      },
      "execution_count": 6,
      "outputs": [
        {
          "output_type": "stream",
          "name": "stdout",
          "text": [
            "Entre com um valor para Saque: 65\n",
            "1 Nota de 50\n",
            "0 Nota(s) de 20\n",
            "1 Nota(s) de 10\n",
            "1 Nota(s) de 5\n",
            "0 Moeda(s) de 2\n",
            "0 Moeda de 1\n"
          ]
        }
      ]
    }
  ]
}