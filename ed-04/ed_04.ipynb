{
  "nbformat": 4,
  "nbformat_minor": 0,
  "metadata": {
    "colab": {
      "provenance": [],
      "collapsed_sections": [],
      "authorship_tag": "ABX9TyOPUL7JkvuhFHaogIHqHCml",
      "include_colab_link": true
    },
    "kernelspec": {
      "name": "python3",
      "display_name": "Python 3"
    },
    "language_info": {
      "name": "python"
    }
  },
  "cells": [
    {
      "cell_type": "markdown",
      "metadata": {
        "id": "view-in-github",
        "colab_type": "text"
      },
      "source": [
        "<a href=\"https://colab.research.google.com/github/AndreVelasques7/inteligencia-artificial/blob/main/ed_04.ipynb\" target=\"_parent\"><img src=\"https://colab.research.google.com/assets/colab-badge.svg\" alt=\"Open In Colab\"/></a>"
      ]
    },
    {
      "cell_type": "code",
      "execution_count": null,
      "metadata": {
        "id": "sWVWzTt8YX0l"
      },
      "outputs": [],
      "source": [
        "def bfs(grafo, vertice_fonte):\n",
        "    visitados, fila = set(), [vertice_fonte]\n",
        "    while fila:\n",
        "        vertice = queue.pop(0)\n",
        "        if vertice not in visitados:\n",
        "            visitados.add(vertice)\n",
        "            fila.extend(grafo[vertice] - visitados)\n",
        "    return visitados"
      ]
    },
    {
      "cell_type": "code",
      "source": [
        "def dfs(grafo, vertice):\n",
        "    visitados = set()\n",
        "\n",
        "    def dfs_recursiva(grafo, vertice):\n",
        "        visitados.add(vertice)\n",
        "        for vizinho in grafo[vertice]:\n",
        "            if vizinho not in visitados:\n",
        "                dfs_recursiva(grafo, vizinho)\n",
        "\n",
        "    dfs_recursiva(grafo, vertice)"
      ],
      "metadata": {
        "id": "zRYhjZsodW6b"
      },
      "execution_count": null,
      "outputs": []
    },
    {
      "cell_type": "code",
      "source": [
        "dfs(grafo, 'A')"
      ],
      "metadata": {
        "id": "bqPOuTvPdwbY"
      },
      "execution_count": null,
      "outputs": []
    }
  ]
}